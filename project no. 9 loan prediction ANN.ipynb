{
 "cells": [
  {
   "cell_type": "code",
   "execution_count": 1,
   "id": "f12ef042",
   "metadata": {},
   "outputs": [],
   "source": [
    "import pandas as pd\n",
    "from warnings import filterwarnings\n",
    "filterwarnings(\"ignore\")"
   ]
  },
  {
   "cell_type": "code",
   "execution_count": 2,
   "id": "b2730946",
   "metadata": {},
   "outputs": [],
   "source": [
    "A = pd.read_csv(\"/users/sai/Desktop/dataset/Loan Prediction/training_set.csv\")"
   ]
  },
  {
   "cell_type": "code",
   "execution_count": 3,
   "id": "92e648d1",
   "metadata": {},
   "outputs": [
    {
     "data": {
      "text/html": [
       "<div>\n",
       "<style scoped>\n",
       "    .dataframe tbody tr th:only-of-type {\n",
       "        vertical-align: middle;\n",
       "    }\n",
       "\n",
       "    .dataframe tbody tr th {\n",
       "        vertical-align: top;\n",
       "    }\n",
       "\n",
       "    .dataframe thead th {\n",
       "        text-align: right;\n",
       "    }\n",
       "</style>\n",
       "<table border=\"1\" class=\"dataframe\">\n",
       "  <thead>\n",
       "    <tr style=\"text-align: right;\">\n",
       "      <th></th>\n",
       "      <th>Loan_ID</th>\n",
       "      <th>Gender</th>\n",
       "      <th>Married</th>\n",
       "      <th>Dependents</th>\n",
       "      <th>Education</th>\n",
       "      <th>Self_Employed</th>\n",
       "      <th>ApplicantIncome</th>\n",
       "      <th>CoapplicantIncome</th>\n",
       "      <th>LoanAmount</th>\n",
       "      <th>Loan_Amount_Term</th>\n",
       "      <th>Credit_History</th>\n",
       "      <th>Property_Area</th>\n",
       "      <th>Loan_Status</th>\n",
       "    </tr>\n",
       "  </thead>\n",
       "  <tbody>\n",
       "    <tr>\n",
       "      <th>0</th>\n",
       "      <td>LP001002</td>\n",
       "      <td>Male</td>\n",
       "      <td>No</td>\n",
       "      <td>0</td>\n",
       "      <td>Graduate</td>\n",
       "      <td>No</td>\n",
       "      <td>5849.0</td>\n",
       "      <td>0.0</td>\n",
       "      <td>NaN</td>\n",
       "      <td>360.0</td>\n",
       "      <td>1.0</td>\n",
       "      <td>Urban</td>\n",
       "      <td>Y</td>\n",
       "    </tr>\n",
       "    <tr>\n",
       "      <th>1</th>\n",
       "      <td>LP001003</td>\n",
       "      <td>Male</td>\n",
       "      <td>Yes</td>\n",
       "      <td>1</td>\n",
       "      <td>Graduate</td>\n",
       "      <td>No</td>\n",
       "      <td>NaN</td>\n",
       "      <td>1508.0</td>\n",
       "      <td>128.0</td>\n",
       "      <td>360.0</td>\n",
       "      <td>1.0</td>\n",
       "      <td>Rural</td>\n",
       "      <td>N</td>\n",
       "    </tr>\n",
       "    <tr>\n",
       "      <th>2</th>\n",
       "      <td>LP001005</td>\n",
       "      <td>Male</td>\n",
       "      <td>Yes</td>\n",
       "      <td>0</td>\n",
       "      <td>Graduate</td>\n",
       "      <td>Yes</td>\n",
       "      <td>3000.0</td>\n",
       "      <td>0.0</td>\n",
       "      <td>66.0</td>\n",
       "      <td>360.0</td>\n",
       "      <td>1.0</td>\n",
       "      <td>Urban</td>\n",
       "      <td>Y</td>\n",
       "    </tr>\n",
       "    <tr>\n",
       "      <th>3</th>\n",
       "      <td>LP001006</td>\n",
       "      <td>Male</td>\n",
       "      <td>Yes</td>\n",
       "      <td>0</td>\n",
       "      <td>Not Graduate</td>\n",
       "      <td>No</td>\n",
       "      <td>2583.0</td>\n",
       "      <td>2358.0</td>\n",
       "      <td>120.0</td>\n",
       "      <td>360.0</td>\n",
       "      <td>1.0</td>\n",
       "      <td>Urban</td>\n",
       "      <td>Y</td>\n",
       "    </tr>\n",
       "    <tr>\n",
       "      <th>4</th>\n",
       "      <td>LP001008</td>\n",
       "      <td>Male</td>\n",
       "      <td>No</td>\n",
       "      <td>0</td>\n",
       "      <td>Graduate</td>\n",
       "      <td>No</td>\n",
       "      <td>6000.0</td>\n",
       "      <td>0.0</td>\n",
       "      <td>141.0</td>\n",
       "      <td>360.0</td>\n",
       "      <td>1.0</td>\n",
       "      <td>Urban</td>\n",
       "      <td>Y</td>\n",
       "    </tr>\n",
       "  </tbody>\n",
       "</table>\n",
       "</div>"
      ],
      "text/plain": [
       "    Loan_ID Gender Married Dependents     Education Self_Employed  \\\n",
       "0  LP001002   Male      No          0      Graduate            No   \n",
       "1  LP001003   Male     Yes          1      Graduate            No   \n",
       "2  LP001005   Male     Yes          0      Graduate           Yes   \n",
       "3  LP001006   Male     Yes          0  Not Graduate            No   \n",
       "4  LP001008   Male      No          0      Graduate            No   \n",
       "\n",
       "   ApplicantIncome  CoapplicantIncome  LoanAmount  Loan_Amount_Term  \\\n",
       "0           5849.0                0.0         NaN             360.0   \n",
       "1              NaN             1508.0       128.0             360.0   \n",
       "2           3000.0                0.0        66.0             360.0   \n",
       "3           2583.0             2358.0       120.0             360.0   \n",
       "4           6000.0                0.0       141.0             360.0   \n",
       "\n",
       "   Credit_History Property_Area Loan_Status  \n",
       "0             1.0         Urban           Y  \n",
       "1             1.0         Rural           N  \n",
       "2             1.0         Urban           Y  \n",
       "3             1.0         Urban           Y  \n",
       "4             1.0         Urban           Y  "
      ]
     },
     "execution_count": 3,
     "metadata": {},
     "output_type": "execute_result"
    }
   ],
   "source": [
    "A.head()"
   ]
  },
  {
   "cell_type": "code",
   "execution_count": 4,
   "id": "1c4942e8",
   "metadata": {},
   "outputs": [],
   "source": [
    "B = A.drop(labels=[\"Loan_ID\"],axis=1)"
   ]
  },
  {
   "cell_type": "code",
   "execution_count": 5,
   "id": "6cf8745f",
   "metadata": {},
   "outputs": [],
   "source": [
    "from preprocessing_6PM import replacer\n",
    "replacer(B)"
   ]
  },
  {
   "cell_type": "code",
   "execution_count": 6,
   "id": "f62f1615",
   "metadata": {},
   "outputs": [],
   "source": [
    "Y = B[[\"Loan_Status\"]]\n",
    "X = B.drop(labels=[\"Loan_Status\"],axis=1)"
   ]
  },
  {
   "cell_type": "code",
   "execution_count": 7,
   "id": "880f7db6",
   "metadata": {},
   "outputs": [],
   "source": [
    "from preprocessing_6PM import data_prep\n",
    "Xnew = data_prep(X)"
   ]
  },
  {
   "cell_type": "code",
   "execution_count": 8,
   "id": "1c5345db",
   "metadata": {},
   "outputs": [],
   "source": [
    "from sklearn.preprocessing import LabelEncoder\n",
    "le = LabelEncoder()\n",
    "Y.Loan_Status = le.fit_transform(Y)"
   ]
  },
  {
   "cell_type": "code",
   "execution_count": 9,
   "id": "67cf9bfe",
   "metadata": {},
   "outputs": [],
   "source": [
    "from sklearn.model_selection import train_test_split\n",
    "xtrain,xtest,ytrain,ytest=train_test_split(Xnew,Y,test_size=0.2,random_state=21)"
   ]
  },
  {
   "cell_type": "code",
   "execution_count": 10,
   "id": "2526ca16",
   "metadata": {},
   "outputs": [],
   "source": [
    "from keras.models import Sequential\n",
    "from keras.layers import Dense,Dropout\n",
    "from keras.callbacks import EarlyStopping"
   ]
  },
  {
   "cell_type": "code",
   "execution_count": 11,
   "id": "e187ea90",
   "metadata": {},
   "outputs": [],
   "source": [
    "nn = Sequential()\n",
    "nn.add(Dense(200,input_dim=(Xnew.shape[1])))\n",
    "nn.add(Dense(200))\n",
    "nn.add(Dropout(0.2))\n",
    "nn.add(Dense(200))\n",
    "nn.add(Dropout(0.2))\n",
    "nn.add(Dense(200))\n",
    "nn.add(Dropout(0.2))\n",
    "nn.add(Dense(1,activation=\"sigmoid\"))\n"
   ]
  },
  {
   "cell_type": "code",
   "execution_count": 12,
   "id": "ff52fd3f",
   "metadata": {},
   "outputs": [
    {
     "name": "stdout",
     "output_type": "stream",
     "text": [
      "Epoch 1/100\n",
      "98/98 [==============================] - 3s 9ms/step - loss: 0.6235 - accuracy: 0.7423 - val_loss: 0.6241 - val_accuracy: 0.8081\n",
      "Epoch 2/100\n",
      "98/98 [==============================] - 1s 5ms/step - loss: 0.5792 - accuracy: 0.7628 - val_loss: 0.5567 - val_accuracy: 0.7879\n",
      "Epoch 3/100\n",
      "98/98 [==============================] - 1s 5ms/step - loss: 0.5551 - accuracy: 0.7857 - val_loss: 0.5039 - val_accuracy: 0.7980\n",
      "Epoch 4/100\n",
      "98/98 [==============================] - 1s 5ms/step - loss: 0.5360 - accuracy: 0.7730 - val_loss: 0.5556 - val_accuracy: 0.8081\n",
      "Epoch 5/100\n",
      "98/98 [==============================] - 1s 5ms/step - loss: 0.5551 - accuracy: 0.7730 - val_loss: 0.5346 - val_accuracy: 0.7980\n",
      "Epoch 6/100\n",
      "98/98 [==============================] - 1s 6ms/step - loss: 0.5366 - accuracy: 0.7781 - val_loss: 0.5618 - val_accuracy: 0.7374\n",
      "Epoch 7/100\n",
      "98/98 [==============================] - 1s 6ms/step - loss: 0.5387 - accuracy: 0.7806 - val_loss: 0.5343 - val_accuracy: 0.8182\n",
      "Epoch 8/100\n",
      "98/98 [==============================] - 1s 6ms/step - loss: 0.5310 - accuracy: 0.7857 - val_loss: 0.6309 - val_accuracy: 0.7980\n",
      "Epoch 9/100\n",
      "98/98 [==============================] - 1s 7ms/step - loss: 0.5289 - accuracy: 0.7883 - val_loss: 0.5537 - val_accuracy: 0.8081\n",
      "Epoch 10/100\n",
      "98/98 [==============================] - 1s 5ms/step - loss: 0.5241 - accuracy: 0.7908 - val_loss: 0.6104 - val_accuracy: 0.7475\n",
      "Epoch 11/100\n",
      "98/98 [==============================] - 1s 5ms/step - loss: 0.5301 - accuracy: 0.7832 - val_loss: 0.5148 - val_accuracy: 0.8081\n",
      "Epoch 12/100\n",
      "98/98 [==============================] - 1s 5ms/step - loss: 0.5053 - accuracy: 0.7883 - val_loss: 0.5932 - val_accuracy: 0.7879\n",
      "Epoch 13/100\n",
      "98/98 [==============================] - 1s 6ms/step - loss: 0.5236 - accuracy: 0.7908 - val_loss: 0.5479 - val_accuracy: 0.7475\n",
      "Epoch 14/100\n",
      "98/98 [==============================] - 1s 5ms/step - loss: 0.5117 - accuracy: 0.7806 - val_loss: 0.5614 - val_accuracy: 0.8182\n",
      "Epoch 15/100\n",
      "98/98 [==============================] - 1s 5ms/step - loss: 0.5122 - accuracy: 0.7908 - val_loss: 0.6006 - val_accuracy: 0.8081\n",
      "Epoch 16/100\n",
      "98/98 [==============================] - 1s 5ms/step - loss: 0.4999 - accuracy: 0.7959 - val_loss: 0.5511 - val_accuracy: 0.7879\n",
      "Epoch 17/100\n",
      "98/98 [==============================] - 1s 6ms/step - loss: 0.5246 - accuracy: 0.7832 - val_loss: 0.5146 - val_accuracy: 0.8081\n",
      "Epoch 18/100\n",
      "98/98 [==============================] - 1s 6ms/step - loss: 0.4996 - accuracy: 0.7857 - val_loss: 0.5043 - val_accuracy: 0.8081\n",
      "Epoch 19/100\n",
      "98/98 [==============================] - 1s 5ms/step - loss: 0.4871 - accuracy: 0.7959 - val_loss: 0.5308 - val_accuracy: 0.8182\n",
      "Epoch 20/100\n",
      "98/98 [==============================] - 0s 5ms/step - loss: 0.4965 - accuracy: 0.8036 - val_loss: 0.5717 - val_accuracy: 0.7980\n",
      "Epoch 21/100\n",
      "98/98 [==============================] - 0s 5ms/step - loss: 0.5063 - accuracy: 0.8036 - val_loss: 0.5295 - val_accuracy: 0.7980\n",
      "Epoch 22/100\n",
      "98/98 [==============================] - 1s 5ms/step - loss: 0.5015 - accuracy: 0.8010 - val_loss: 0.5191 - val_accuracy: 0.7778\n",
      "Epoch 23/100\n",
      "98/98 [==============================] - 1s 5ms/step - loss: 0.4917 - accuracy: 0.8036 - val_loss: 0.5639 - val_accuracy: 0.7980\n",
      "Epoch 24/100\n",
      "98/98 [==============================] - 1s 6ms/step - loss: 0.4948 - accuracy: 0.8061 - val_loss: 0.5255 - val_accuracy: 0.7980\n",
      "Epoch 25/100\n",
      "98/98 [==============================] - 1s 5ms/step - loss: 0.4907 - accuracy: 0.8087 - val_loss: 0.5439 - val_accuracy: 0.7879\n",
      "Epoch 26/100\n",
      "98/98 [==============================] - 1s 6ms/step - loss: 0.4962 - accuracy: 0.8061 - val_loss: 0.5263 - val_accuracy: 0.7980\n",
      "Epoch 27/100\n",
      "98/98 [==============================] - 1s 5ms/step - loss: 0.4913 - accuracy: 0.7959 - val_loss: 0.5245 - val_accuracy: 0.8081\n",
      "Epoch 28/100\n",
      "98/98 [==============================] - 1s 5ms/step - loss: 0.4856 - accuracy: 0.8112 - val_loss: 0.8446 - val_accuracy: 0.7879\n",
      "Epoch 29/100\n",
      "98/98 [==============================] - 1s 5ms/step - loss: 0.4919 - accuracy: 0.8010 - val_loss: 0.5030 - val_accuracy: 0.8081\n",
      "Epoch 30/100\n",
      "98/98 [==============================] - 1s 5ms/step - loss: 0.4784 - accuracy: 0.8112 - val_loss: 0.6032 - val_accuracy: 0.8081\n",
      "Epoch 31/100\n",
      "98/98 [==============================] - 1s 5ms/step - loss: 0.4987 - accuracy: 0.8036 - val_loss: 0.5065 - val_accuracy: 0.8081\n",
      "Epoch 32/100\n",
      "98/98 [==============================] - 1s 5ms/step - loss: 0.4921 - accuracy: 0.7985 - val_loss: 0.5398 - val_accuracy: 0.8081\n",
      "Epoch 33/100\n",
      "98/98 [==============================] - 1s 5ms/step - loss: 0.4901 - accuracy: 0.8036 - val_loss: 0.5560 - val_accuracy: 0.8081\n",
      "Epoch 34/100\n",
      "98/98 [==============================] - 1s 5ms/step - loss: 0.4787 - accuracy: 0.7959 - val_loss: 0.5881 - val_accuracy: 0.7980\n",
      "Epoch 35/100\n",
      "98/98 [==============================] - 1s 5ms/step - loss: 0.5014 - accuracy: 0.8112 - val_loss: 0.5138 - val_accuracy: 0.7980\n",
      "Epoch 36/100\n",
      "98/98 [==============================] - 1s 5ms/step - loss: 0.4920 - accuracy: 0.8036 - val_loss: 0.5350 - val_accuracy: 0.8081\n",
      "Epoch 37/100\n",
      "98/98 [==============================] - 0s 5ms/step - loss: 0.4850 - accuracy: 0.8010 - val_loss: 0.5070 - val_accuracy: 0.8081\n",
      "Epoch 38/100\n",
      "98/98 [==============================] - 0s 5ms/step - loss: 0.4901 - accuracy: 0.7959 - val_loss: 0.5279 - val_accuracy: 0.7980\n",
      "Epoch 39/100\n",
      "98/98 [==============================] - 1s 6ms/step - loss: 0.4866 - accuracy: 0.7985 - val_loss: 0.4953 - val_accuracy: 0.8081\n",
      "Epoch 40/100\n",
      "98/98 [==============================] - 1s 5ms/step - loss: 0.4814 - accuracy: 0.8087 - val_loss: 0.4989 - val_accuracy: 0.8283\n",
      "Epoch 41/100\n",
      "98/98 [==============================] - 1s 5ms/step - loss: 0.4880 - accuracy: 0.8036 - val_loss: 0.5300 - val_accuracy: 0.7879\n",
      "Epoch 42/100\n",
      "98/98 [==============================] - 1s 5ms/step - loss: 0.4984 - accuracy: 0.8087 - val_loss: 0.5462 - val_accuracy: 0.8081\n",
      "Epoch 43/100\n",
      "98/98 [==============================] - 1s 5ms/step - loss: 0.4917 - accuracy: 0.7959 - val_loss: 0.5202 - val_accuracy: 0.8081\n",
      "Epoch 44/100\n",
      "98/98 [==============================] - 1s 6ms/step - loss: 0.4886 - accuracy: 0.8036 - val_loss: 0.5165 - val_accuracy: 0.7879\n",
      "Epoch 45/100\n",
      "98/98 [==============================] - 1s 6ms/step - loss: 0.4836 - accuracy: 0.8010 - val_loss: 0.4902 - val_accuracy: 0.8081\n",
      "Epoch 46/100\n",
      "98/98 [==============================] - 1s 5ms/step - loss: 0.4871 - accuracy: 0.8138 - val_loss: 0.6093 - val_accuracy: 0.7980\n",
      "Epoch 47/100\n",
      "98/98 [==============================] - 1s 6ms/step - loss: 0.4764 - accuracy: 0.8010 - val_loss: 0.5361 - val_accuracy: 0.8081\n",
      "Epoch 48/100\n",
      "98/98 [==============================] - 0s 5ms/step - loss: 0.4799 - accuracy: 0.7934 - val_loss: 0.5292 - val_accuracy: 0.7677\n",
      "Epoch 49/100\n",
      "98/98 [==============================] - 1s 5ms/step - loss: 0.4925 - accuracy: 0.8036 - val_loss: 0.5146 - val_accuracy: 0.8081\n",
      "Epoch 50/100\n",
      "98/98 [==============================] - 1s 5ms/step - loss: 0.4887 - accuracy: 0.8112 - val_loss: 0.5287 - val_accuracy: 0.8081\n",
      "Epoch 51/100\n",
      "98/98 [==============================] - 1s 5ms/step - loss: 0.4854 - accuracy: 0.7985 - val_loss: 0.5129 - val_accuracy: 0.7980\n",
      "Epoch 52/100\n",
      "98/98 [==============================] - 1s 6ms/step - loss: 0.4894 - accuracy: 0.8112 - val_loss: 0.5018 - val_accuracy: 0.8081\n",
      "Epoch 53/100\n",
      "98/98 [==============================] - 1s 5ms/step - loss: 0.4817 - accuracy: 0.8036 - val_loss: 0.4971 - val_accuracy: 0.8182\n",
      "Epoch 54/100\n",
      "98/98 [==============================] - 1s 6ms/step - loss: 0.4834 - accuracy: 0.8036 - val_loss: 0.5165 - val_accuracy: 0.8081\n",
      "Epoch 55/100\n",
      "98/98 [==============================] - 1s 6ms/step - loss: 0.4768 - accuracy: 0.8163 - val_loss: 0.5622 - val_accuracy: 0.8182\n",
      "Epoch 56/100\n",
      "98/98 [==============================] - 1s 6ms/step - loss: 0.4945 - accuracy: 0.8036 - val_loss: 0.4926 - val_accuracy: 0.8182\n",
      "Epoch 57/100\n",
      "98/98 [==============================] - 1s 5ms/step - loss: 0.4924 - accuracy: 0.8163 - val_loss: 0.5340 - val_accuracy: 0.7980\n",
      "Epoch 58/100\n",
      "98/98 [==============================] - 1s 6ms/step - loss: 0.5021 - accuracy: 0.8010 - val_loss: 0.5253 - val_accuracy: 0.7980\n",
      "Epoch 59/100\n",
      "98/98 [==============================] - 1s 7ms/step - loss: 0.4951 - accuracy: 0.8112 - val_loss: 0.5403 - val_accuracy: 0.8081\n",
      "Epoch 60/100\n",
      "98/98 [==============================] - 0s 5ms/step - loss: 0.4928 - accuracy: 0.8036 - val_loss: 0.5073 - val_accuracy: 0.8081\n",
      "Epoch 61/100\n",
      "98/98 [==============================] - 1s 5ms/step - loss: 0.4810 - accuracy: 0.7959 - val_loss: 0.5700 - val_accuracy: 0.8081\n",
      "Epoch 62/100\n",
      "98/98 [==============================] - 1s 5ms/step - loss: 0.4812 - accuracy: 0.8010 - val_loss: 0.5149 - val_accuracy: 0.8081\n",
      "Epoch 63/100\n",
      "98/98 [==============================] - 1s 6ms/step - loss: 0.4902 - accuracy: 0.8061 - val_loss: 0.4765 - val_accuracy: 0.8182\n",
      "Epoch 64/100\n",
      "98/98 [==============================] - 1s 5ms/step - loss: 0.4890 - accuracy: 0.8010 - val_loss: 0.5082 - val_accuracy: 0.8182\n",
      "Epoch 65/100\n",
      "98/98 [==============================] - 1s 6ms/step - loss: 0.4855 - accuracy: 0.8036 - val_loss: 0.5305 - val_accuracy: 0.8182\n",
      "Epoch 66/100\n",
      "98/98 [==============================] - 1s 5ms/step - loss: 0.4941 - accuracy: 0.8112 - val_loss: 0.4916 - val_accuracy: 0.8182\n",
      "Epoch 67/100\n",
      "98/98 [==============================] - 1s 5ms/step - loss: 0.4766 - accuracy: 0.8087 - val_loss: 0.4995 - val_accuracy: 0.7980\n",
      "Epoch 68/100\n",
      "98/98 [==============================] - 1s 5ms/step - loss: 0.4823 - accuracy: 0.8061 - val_loss: 0.5248 - val_accuracy: 0.8081\n",
      "Epoch 69/100\n",
      "98/98 [==============================] - 1s 5ms/step - loss: 0.4855 - accuracy: 0.8061 - val_loss: 0.5740 - val_accuracy: 0.7980\n",
      "Epoch 70/100\n",
      "98/98 [==============================] - 1s 5ms/step - loss: 0.4751 - accuracy: 0.8087 - val_loss: 0.5890 - val_accuracy: 0.8081\n",
      "Epoch 71/100\n",
      "98/98 [==============================] - 1s 5ms/step - loss: 0.4797 - accuracy: 0.8138 - val_loss: 0.5096 - val_accuracy: 0.8081\n",
      "Epoch 72/100\n",
      "98/98 [==============================] - 1s 6ms/step - loss: 0.4975 - accuracy: 0.8087 - val_loss: 0.4988 - val_accuracy: 0.8081\n",
      "Epoch 73/100\n",
      "98/98 [==============================] - 1s 6ms/step - loss: 0.4806 - accuracy: 0.8061 - val_loss: 0.5608 - val_accuracy: 0.8182\n",
      "Epoch 74/100\n",
      "98/98 [==============================] - 1s 5ms/step - loss: 0.4977 - accuracy: 0.8036 - val_loss: 0.6901 - val_accuracy: 0.7980\n",
      "Epoch 75/100\n",
      "98/98 [==============================] - 1s 6ms/step - loss: 0.4961 - accuracy: 0.8061 - val_loss: 0.5165 - val_accuracy: 0.7980\n",
      "Epoch 76/100\n",
      "98/98 [==============================] - 1s 6ms/step - loss: 0.4833 - accuracy: 0.8010 - val_loss: 0.6962 - val_accuracy: 0.7879\n",
      "Epoch 77/100\n",
      "98/98 [==============================] - 1s 6ms/step - loss: 0.4909 - accuracy: 0.8112 - val_loss: 0.5982 - val_accuracy: 0.8081\n",
      "Epoch 78/100\n",
      "98/98 [==============================] - 0s 5ms/step - loss: 0.4862 - accuracy: 0.8061 - val_loss: 0.4986 - val_accuracy: 0.8081\n",
      "Epoch 79/100\n",
      "98/98 [==============================] - 0s 5ms/step - loss: 0.4873 - accuracy: 0.8036 - val_loss: 0.5050 - val_accuracy: 0.8081\n",
      "Epoch 80/100\n",
      "98/98 [==============================] - 0s 5ms/step - loss: 0.4801 - accuracy: 0.8061 - val_loss: 0.5690 - val_accuracy: 0.7980\n",
      "Epoch 81/100\n",
      "98/98 [==============================] - 0s 5ms/step - loss: 0.4984 - accuracy: 0.7959 - val_loss: 0.5215 - val_accuracy: 0.7980\n",
      "Epoch 82/100\n",
      "98/98 [==============================] - 0s 5ms/step - loss: 0.4863 - accuracy: 0.8087 - val_loss: 0.5049 - val_accuracy: 0.8081\n",
      "Epoch 83/100\n",
      "98/98 [==============================] - 1s 5ms/step - loss: 0.4842 - accuracy: 0.7985 - val_loss: 0.4998 - val_accuracy: 0.8081\n",
      "Epoch 84/100\n",
      "98/98 [==============================] - 1s 5ms/step - loss: 0.4942 - accuracy: 0.8036 - val_loss: 0.5034 - val_accuracy: 0.7980\n",
      "Epoch 85/100\n",
      "98/98 [==============================] - 1s 6ms/step - loss: 0.4949 - accuracy: 0.8061 - val_loss: 0.5308 - val_accuracy: 0.7980\n",
      "Epoch 86/100\n",
      "98/98 [==============================] - 1s 6ms/step - loss: 0.4838 - accuracy: 0.8087 - val_loss: 0.6533 - val_accuracy: 0.8081\n",
      "Epoch 87/100\n",
      "98/98 [==============================] - 1s 5ms/step - loss: 0.4938 - accuracy: 0.8010 - val_loss: 0.4929 - val_accuracy: 0.8081\n",
      "Epoch 88/100\n",
      "98/98 [==============================] - 1s 6ms/step - loss: 0.4855 - accuracy: 0.8010 - val_loss: 0.5408 - val_accuracy: 0.7980\n",
      "Epoch 89/100\n",
      "98/98 [==============================] - 1s 5ms/step - loss: 0.4737 - accuracy: 0.8036 - val_loss: 0.5301 - val_accuracy: 0.7980\n",
      "Epoch 90/100\n",
      "98/98 [==============================] - 1s 5ms/step - loss: 0.4870 - accuracy: 0.8087 - val_loss: 0.5249 - val_accuracy: 0.7980\n",
      "Epoch 91/100\n",
      "98/98 [==============================] - 1s 5ms/step - loss: 0.4759 - accuracy: 0.8163 - val_loss: 0.5370 - val_accuracy: 0.8081\n",
      "Epoch 92/100\n",
      "98/98 [==============================] - 0s 5ms/step - loss: 0.4805 - accuracy: 0.8010 - val_loss: 0.5233 - val_accuracy: 0.8081\n",
      "Epoch 93/100\n",
      "98/98 [==============================] - 1s 6ms/step - loss: 0.4799 - accuracy: 0.7985 - val_loss: 0.6171 - val_accuracy: 0.8081\n",
      "Epoch 94/100\n",
      "98/98 [==============================] - 1s 6ms/step - loss: 0.4916 - accuracy: 0.8010 - val_loss: 0.5104 - val_accuracy: 0.7980\n",
      "Epoch 95/100\n",
      "98/98 [==============================] - 1s 5ms/step - loss: 0.4903 - accuracy: 0.7959 - val_loss: 0.5552 - val_accuracy: 0.7677\n",
      "Epoch 96/100\n",
      "98/98 [==============================] - 1s 5ms/step - loss: 0.4849 - accuracy: 0.8061 - val_loss: 0.5139 - val_accuracy: 0.7980\n",
      "Epoch 97/100\n",
      "98/98 [==============================] - 1s 5ms/step - loss: 0.4774 - accuracy: 0.8036 - val_loss: 0.5490 - val_accuracy: 0.7879\n",
      "Epoch 98/100\n",
      "98/98 [==============================] - 1s 6ms/step - loss: 0.4829 - accuracy: 0.7985 - val_loss: 0.5858 - val_accuracy: 0.7980\n",
      "Epoch 99/100\n",
      "98/98 [==============================] - 1s 5ms/step - loss: 0.4834 - accuracy: 0.8036 - val_loss: 0.5299 - val_accuracy: 0.8081\n",
      "Epoch 100/100\n",
      "98/98 [==============================] - 1s 5ms/step - loss: 0.4910 - accuracy: 0.8061 - val_loss: 0.5286 - val_accuracy: 0.7980\n"
     ]
    },
    {
     "data": {
      "text/plain": [
       "<keras.callbacks.History at 0x187acbebaf0>"
      ]
     },
     "execution_count": 12,
     "metadata": {},
     "output_type": "execute_result"
    }
   ],
   "source": [
    "nn.compile(loss = \"binary_crossentropy\",metrics=[\"accuracy\"])\n",
    "nn.fit(xtrain,ytrain,validation_split=0.2,batch_size=4,epochs=100)"
   ]
  },
  {
   "cell_type": "code",
   "execution_count": 13,
   "id": "42e892bd",
   "metadata": {},
   "outputs": [],
   "source": [
    "B = pd.read_csv(\"/users/sai/Desktop/dataset/Loan Prediction/testing_set.csv\")\n",
    "B = B.drop(labels=[\"Loan_ID\"],axis=1)"
   ]
  },
  {
   "cell_type": "code",
   "execution_count": 14,
   "id": "6e35b916",
   "metadata": {},
   "outputs": [],
   "source": [
    "replacer(B)\n"
   ]
  },
  {
   "cell_type": "code",
   "execution_count": 15,
   "id": "66abce19",
   "metadata": {},
   "outputs": [],
   "source": [
    "from PM8 import preprocessing\n",
    "test = preprocessing(B)\n"
   ]
  },
  {
   "cell_type": "code",
   "execution_count": 16,
   "id": "283dc802",
   "metadata": {},
   "outputs": [
    {
     "data": {
      "text/plain": [
       "Index(['ApplicantIncome', 'CoapplicantIncome', 'LoanAmount',\n",
       "       'Loan_Amount_Term', 'Credit_History', 'Gender_Female', 'Gender_Male',\n",
       "       'Married_No', 'Married_Yes', 'Dependents_0', 'Dependents_1',\n",
       "       'Dependents_2', 'Dependents_3+', 'Education_Graduate',\n",
       "       'Education_Not Graduate', 'Self_Employed_No', 'Self_Employed_Yes',\n",
       "       'Property_Area_Rural', 'Property_Area_Semiurban',\n",
       "       'Property_Area_Urban'],\n",
       "      dtype='object')"
      ]
     },
     "execution_count": 16,
     "metadata": {},
     "output_type": "execute_result"
    }
   ],
   "source": [
    "test.columns\n"
   ]
  },
  {
   "cell_type": "code",
   "execution_count": 17,
   "id": "437c9e71",
   "metadata": {},
   "outputs": [
    {
     "data": {
      "text/plain": [
       "Index(['ApplicantIncome', 'CoapplicantIncome', 'LoanAmount',\n",
       "       'Loan_Amount_Term', 'Credit_History', 'Gender_Female', 'Gender_Male',\n",
       "       'Married_No', 'Married_Yes', 'Dependents_0', 'Dependents_1',\n",
       "       'Dependents_2', 'Dependents_3+', 'Education_Graduate',\n",
       "       'Education_Not Graduate', 'Self_Employed_No', 'Self_Employed_Yes',\n",
       "       'Property_Area_Rural', 'Property_Area_Semiurban',\n",
       "       'Property_Area_Urban'],\n",
       "      dtype='object')"
      ]
     },
     "execution_count": 17,
     "metadata": {},
     "output_type": "execute_result"
    }
   ],
   "source": [
    "Xnew.columns\n"
   ]
  },
  {
   "cell_type": "code",
   "execution_count": 18,
   "id": "a883c37b",
   "metadata": {},
   "outputs": [
    {
     "data": {
      "text/plain": [
       "(367, 20)"
      ]
     },
     "execution_count": 18,
     "metadata": {},
     "output_type": "execute_result"
    }
   ],
   "source": [
    "test.shape\n"
   ]
  },
  {
   "cell_type": "code",
   "execution_count": 19,
   "id": "b30b826f",
   "metadata": {},
   "outputs": [
    {
     "data": {
      "text/plain": [
       "(614, 20)"
      ]
     },
     "execution_count": 19,
     "metadata": {},
     "output_type": "execute_result"
    }
   ],
   "source": [
    "Xnew.shape\n"
   ]
  },
  {
   "cell_type": "code",
   "execution_count": 20,
   "id": "18c319c4",
   "metadata": {},
   "outputs": [],
   "source": [
    "Q = []\n",
    "for i in nn.predict(test):\n",
    "    if(i[0] < 0.5):\n",
    "        Q.append(0)\n",
    "    else:\n",
    "        Q.append(1)"
   ]
  },
  {
   "cell_type": "code",
   "execution_count": 21,
   "id": "8237bd80",
   "metadata": {},
   "outputs": [],
   "source": [
    "pred = le.inverse_transform(Q)\n"
   ]
  },
  {
   "cell_type": "code",
   "execution_count": 22,
   "id": "d4ce07c2",
   "metadata": {},
   "outputs": [],
   "source": [
    "B = pd.read_csv(\"/users/sai/Desktop/dataset/Loan Prediction/testing_set.csv\")\n"
   ]
  },
  {
   "cell_type": "code",
   "execution_count": 23,
   "id": "791d9bb8",
   "metadata": {},
   "outputs": [],
   "source": [
    "C = B[[\"Loan_ID\"]]\n"
   ]
  },
  {
   "cell_type": "code",
   "execution_count": 24,
   "id": "305517eb",
   "metadata": {},
   "outputs": [],
   "source": [
    "C['Loan_Status_Predicted'] = pred\n",
    "\n"
   ]
  },
  {
   "cell_type": "code",
   "execution_count": 25,
   "id": "71cbdeff",
   "metadata": {},
   "outputs": [
    {
     "data": {
      "text/html": [
       "<div>\n",
       "<style scoped>\n",
       "    .dataframe tbody tr th:only-of-type {\n",
       "        vertical-align: middle;\n",
       "    }\n",
       "\n",
       "    .dataframe tbody tr th {\n",
       "        vertical-align: top;\n",
       "    }\n",
       "\n",
       "    .dataframe thead th {\n",
       "        text-align: right;\n",
       "    }\n",
       "</style>\n",
       "<table border=\"1\" class=\"dataframe\">\n",
       "  <thead>\n",
       "    <tr style=\"text-align: right;\">\n",
       "      <th></th>\n",
       "      <th>Loan_ID</th>\n",
       "      <th>Loan_Status_Predicted</th>\n",
       "    </tr>\n",
       "  </thead>\n",
       "  <tbody>\n",
       "    <tr>\n",
       "      <th>0</th>\n",
       "      <td>LP001015</td>\n",
       "      <td>Y</td>\n",
       "    </tr>\n",
       "    <tr>\n",
       "      <th>1</th>\n",
       "      <td>LP001022</td>\n",
       "      <td>Y</td>\n",
       "    </tr>\n",
       "    <tr>\n",
       "      <th>2</th>\n",
       "      <td>LP001031</td>\n",
       "      <td>Y</td>\n",
       "    </tr>\n",
       "    <tr>\n",
       "      <th>3</th>\n",
       "      <td>LP001035</td>\n",
       "      <td>Y</td>\n",
       "    </tr>\n",
       "    <tr>\n",
       "      <th>4</th>\n",
       "      <td>LP001051</td>\n",
       "      <td>Y</td>\n",
       "    </tr>\n",
       "    <tr>\n",
       "      <th>...</th>\n",
       "      <td>...</td>\n",
       "      <td>...</td>\n",
       "    </tr>\n",
       "    <tr>\n",
       "      <th>362</th>\n",
       "      <td>LP002971</td>\n",
       "      <td>Y</td>\n",
       "    </tr>\n",
       "    <tr>\n",
       "      <th>363</th>\n",
       "      <td>LP002975</td>\n",
       "      <td>Y</td>\n",
       "    </tr>\n",
       "    <tr>\n",
       "      <th>364</th>\n",
       "      <td>LP002980</td>\n",
       "      <td>Y</td>\n",
       "    </tr>\n",
       "    <tr>\n",
       "      <th>365</th>\n",
       "      <td>LP002986</td>\n",
       "      <td>Y</td>\n",
       "    </tr>\n",
       "    <tr>\n",
       "      <th>366</th>\n",
       "      <td>LP002989</td>\n",
       "      <td>Y</td>\n",
       "    </tr>\n",
       "  </tbody>\n",
       "</table>\n",
       "<p>367 rows × 2 columns</p>\n",
       "</div>"
      ],
      "text/plain": [
       "      Loan_ID Loan_Status_Predicted\n",
       "0    LP001015                     Y\n",
       "1    LP001022                     Y\n",
       "2    LP001031                     Y\n",
       "3    LP001035                     Y\n",
       "4    LP001051                     Y\n",
       "..        ...                   ...\n",
       "362  LP002971                     Y\n",
       "363  LP002975                     Y\n",
       "364  LP002980                     Y\n",
       "365  LP002986                     Y\n",
       "366  LP002989                     Y\n",
       "\n",
       "[367 rows x 2 columns]"
      ]
     },
     "execution_count": 25,
     "metadata": {},
     "output_type": "execute_result"
    }
   ],
   "source": [
    "C"
   ]
  },
  {
   "cell_type": "code",
   "execution_count": null,
   "id": "56e93c0f",
   "metadata": {},
   "outputs": [],
   "source": []
  },
  {
   "cell_type": "code",
   "execution_count": null,
   "id": "6f96e595",
   "metadata": {},
   "outputs": [],
   "source": []
  }
 ],
 "metadata": {
  "kernelspec": {
   "display_name": "Python 3",
   "language": "python",
   "name": "python3"
  },
  "language_info": {
   "codemirror_mode": {
    "name": "ipython",
    "version": 3
   },
   "file_extension": ".py",
   "mimetype": "text/x-python",
   "name": "python",
   "nbconvert_exporter": "python",
   "pygments_lexer": "ipython3",
   "version": "3.8.8"
  }
 },
 "nbformat": 4,
 "nbformat_minor": 5
}
